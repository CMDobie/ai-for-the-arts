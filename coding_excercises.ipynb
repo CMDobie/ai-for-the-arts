{
 "cells": [
  {
   "cell_type": "markdown",
   "id": "687f96a8",
   "metadata": {},
   "source": [
    "# Week 1-2 Notebook\n",
    "\n",
    "This notebook has been created to complete the lab tasks for weeks 1-2\n",
    "\n",
    "Some goals within this notebook are:\n",
    "1. Grow knowledge of uses of GitHub\n",
    "2. Use Codespace to more easily use Markdown\n",
    "3. Be able to write using Python in Codespace"
   ]
  },
  {
   "cell_type": "markdown",
   "id": "3134269e",
   "metadata": {},
   "source": [
    "## Hello World!\n",
    "\n",
    "The following code was created as my first attempt at \n",
    "programming in this course. It is meant to help me understand how to write and \n",
    "run code in GitHub Codespaces."
   ]
  },
  {
   "cell_type": "code",
   "execution_count": 1,
   "id": "bdae6c57",
   "metadata": {},
   "outputs": [
    {
     "name": "stdout",
     "output_type": "stream",
     "text": [
      "Hello, World!\n"
     ]
    }
   ],
   "source": [
    "print(\"Hello, World!\")"
   ]
  },
  {
   "cell_type": "markdown",
   "id": "2bb67193",
   "metadata": {},
   "source": [
    "## Printing\n",
    "\n",
    "I submitted this prompt to MS Copilot: \n",
    "\n",
    "Could you suggest a python \n",
    "code for ‘Hello, world!’ to demonstrate the concept of printing to a \n",
    "complete beginner in programming? Please explain the code step-by-step \n",
    "highlighting any key aspects.\n",
    "\n",
    "The Learning outcomes were:\n",
    "1. Learn how to best make use of Copilot\n",
    "2. Have Copilot produce a piece of code\n",
    "\n",
    "Below is the code that Copilot produced:"
   ]
  },
  {
   "cell_type": "code",
   "execution_count": 1,
   "id": "ecbf9d72",
   "metadata": {},
   "outputs": [
    {
     "name": "stdout",
     "output_type": "stream",
     "text": [
      "Hello, World!\n"
     ]
    }
   ],
   "source": [
    "print(\"Hello, World!\")"
   ]
  },
  {
   "cell_type": "markdown",
   "id": "4506d377",
   "metadata": {},
   "source": [
    "# Week 3-5"
   ]
  },
  {
   "cell_type": "markdown",
   "id": "6a143ef4",
   "metadata": {},
   "source": [
    "## Exploring Prompts Through MS Copilot"
   ]
  },
  {
   "cell_type": "markdown",
   "id": "8af8afee",
   "metadata": {},
   "source": [
    "This section includes the lab tasks at the beginning of week 3-5. Prompts were input into MS Copilot in order to understand how variables and functions can  be used within Python to more easily code. The following are the prompts input into Copilot:"
   ]
  },
  {
   "cell_type": "markdown",
   "id": "dc1467f8",
   "metadata": {},
   "source": [
    "\"Could you suggest a modification of the Python code for “Hello, world!” to demonstrate the concept of variables to a complete beginner in programming? Please explain the code step-by-step highlighting any key aspects.\""
   ]
  },
  {
   "cell_type": "code",
   "execution_count": 1,
   "id": "c72cfa53",
   "metadata": {},
   "outputs": [
    {
     "name": "stdout",
     "output_type": "stream",
     "text": [
      "Hello, world!\n"
     ]
    }
   ],
   "source": [
    "message = \"Hello, world!\"\n",
    "print(message)"
   ]
  },
  {
   "cell_type": "markdown",
   "id": "3e15807c",
   "metadata": {},
   "source": [
    "\"Could you suggest a modification of the Python code for “Hello, world!” to demonstrate the concept of functions to a complete beginner in programming? Please explain the code step-by-step highlighting any key aspects.\""
   ]
  },
  {
   "cell_type": "code",
   "execution_count": 2,
   "id": "c0475e12",
   "metadata": {},
   "outputs": [
    {
     "name": "stdout",
     "output_type": "stream",
     "text": [
      "Hello, world!\n"
     ]
    }
   ],
   "source": [
    "def greet():\n",
    "    print(\"Hello, world!\")\n",
    "\n",
    "greet()"
   ]
  },
  {
   "cell_type": "markdown",
   "id": "83f6772e",
   "metadata": {},
   "source": [
    "\"Could you suggest a modification of the Python code for “Hello, world!” to \n",
    "demonstrate the concepts of if, elif, and else statements to a complete \n",
    "beginner in programming? Please explain the code step-by-step highlighting any \n",
    "key aspects.\""
   ]
  },
  {
   "cell_type": "code",
   "execution_count": 3,
   "id": "fe29862f",
   "metadata": {},
   "outputs": [
    {
     "name": "stdout",
     "output_type": "stream",
     "text": [
      "Hello, world!\n"
     ]
    }
   ],
   "source": [
    "greeting = \"Hello\"\n",
    "\n",
    "if greeting == \"Hi\":\n",
    "    print(\"Hi there!\")\n",
    "elif greeting == \"Hello\":\n",
    "    print(\"Hello, world!\")\n",
    "else:\n",
    "    print(\"Greetings, traveler!\")"
   ]
  },
  {
   "cell_type": "markdown",
   "id": "e1569612",
   "metadata": {},
   "source": [
    "\"Could you \n",
    "suggest a modification of the Python code for “Hello, world!” to demonstrate the \n",
    "concept of arrays to a complete beginner in programming? Please explain the \n",
    "code step-by-step highlighting any key aspects.\""
   ]
  },
  {
   "cell_type": "code",
   "execution_count": 4,
   "id": "16caac9d",
   "metadata": {},
   "outputs": [
    {
     "name": "stdout",
     "output_type": "stream",
     "text": [
      "Hello, world!\n",
      "Hi there!\n",
      "Greetings!\n",
      "Welcome!\n"
     ]
    }
   ],
   "source": [
    "greetings = [\"Hello, world!\", \"Hi there!\", \"Greetings!\", \"Welcome!\"]\n",
    "\n",
    "for message in greetings:\n",
    "    print(message)"
   ]
  },
  {
   "cell_type": "markdown",
   "id": "35e5d043",
   "metadata": {},
   "source": [
    "### Conclusion"
   ]
  },
  {
   "cell_type": "markdown",
   "id": "d595bd70",
   "metadata": {},
   "source": [
    "Overall, through this excersize I have learnt that there are many different methods to achieve the same task in Python using different methods. I learnt that Copilot is a useful tool not only for providing code to use but also to explain step by step each unique line of code and how it works."
   ]
  }
 ],
 "metadata": {
  "kernelspec": {
   "display_name": "Python 3",
   "language": "python",
   "name": "python3"
  },
  "language_info": {
   "codemirror_mode": {
    "name": "ipython",
    "version": 3
   },
   "file_extension": ".py",
   "mimetype": "text/x-python",
   "name": "python",
   "nbconvert_exporter": "python",
   "pygments_lexer": "ipython3",
   "version": "3.12.1"
  }
 },
 "nbformat": 4,
 "nbformat_minor": 5
}
