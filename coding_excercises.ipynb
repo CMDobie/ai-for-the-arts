{
 "cells": [
  {
   "cell_type": "markdown",
   "id": "687f96a8",
   "metadata": {},
   "source": [
    "# Week 1-2 Notebook\n",
    "\n",
    "This notebook has been created to complete the lab tasks for weeks 1-2\n",
    "\n",
    "Some goals within this notebook are:\n",
    "1. Grow knowledge of uses of GitHub\n",
    "2. Use Codespace to more easily use Markdown\n",
    "3. Be able to write using Python in Codespace"
   ]
  },
  {
   "cell_type": "markdown",
   "id": "3134269e",
   "metadata": {},
   "source": [
    "## Hello World!\n",
    "\n",
    "The following code was created as my first attempt at \n",
    "programming in this course. It is meant to help me understand how to write and \n",
    "run code in GitHub Codespaces."
   ]
  },
  {
   "cell_type": "code",
   "execution_count": 1,
   "id": "bdae6c57",
   "metadata": {},
   "outputs": [
    {
     "name": "stdout",
     "output_type": "stream",
     "text": [
      "Hello, World!\n"
     ]
    }
   ],
   "source": [
    "print(\"Hello, World!\")"
   ]
  }
 ],
 "metadata": {
  "kernelspec": {
   "display_name": "Python 3",
   "language": "python",
   "name": "python3"
  },
  "language_info": {
   "codemirror_mode": {
    "name": "ipython",
    "version": 3
   },
   "file_extension": ".py",
   "mimetype": "text/x-python",
   "name": "python",
   "nbconvert_exporter": "python",
   "pygments_lexer": "ipython3",
   "version": "3.12.1"
  }
 },
 "nbformat": 4,
 "nbformat_minor": 5
}
