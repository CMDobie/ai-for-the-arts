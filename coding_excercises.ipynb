{
 "cells": [
  {
   "cell_type": "markdown",
   "id": "687f96a8",
   "metadata": {},
   "source": [
    "# Week 1-2 Notebook\n",
    "\n",
    "This notebook has been created to complete the lab tasks for weeks 1-2\n",
    "\n",
    "Some goals within this notebook are:\n",
    "1. Grow knowledge of uses of GitHub\n",
    "2. Use Codespace to more easily use Markdown\n",
    "3. Be able to write using Python in Codespace"
   ]
  },
  {
   "cell_type": "markdown",
   "id": "3134269e",
   "metadata": {},
   "source": [
    "## Hello World!\n",
    "\n",
    "The following code was created as my first attempt at \n",
    "programming in this course. It is meant to help me understand how to write and \n",
    "run code in GitHub Codespaces."
   ]
  },
  {
   "cell_type": "code",
   "execution_count": null,
   "id": "bdae6c57",
   "metadata": {
    "vscode": {
     "languageId": "plaintext"
    }
   },
   "outputs": [],
   "source": [
    "print(\"Hello, World!\")"
   ]
  }
 ],
 "metadata": {
  "language_info": {
   "name": "python"
  }
 },
 "nbformat": 4,
 "nbformat_minor": 5
}
